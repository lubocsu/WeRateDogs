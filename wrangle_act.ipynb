{
 "cells": [
  {
   "cell_type": "code",
   "execution_count": null,
   "metadata": {},
   "outputs": [],
   "source": [
    "import requests\n",
    "import json\n",
    "import pandas as pd"
   ]
  },
  {
   "cell_type": "markdown",
   "metadata": {},
   "source": [
    " ### 数据收集"
   ]
  },
  {
   "cell_type": "code",
   "execution_count": null,
   "metadata": {
    "scrolled": true
   },
   "outputs": [],
   "source": [
    "#收集推特档案\n",
    "arc = pd.read_csv('twitter-archive-enhanced.csv', dtype = {'tweet_id': str})\n",
    "\n",
    "#收集神经网络图像预测文件\n",
    "url = 'https://raw.githubusercontent.com/udacity/new-dand-advanced-china/master/%E6%95%B0%E6%8D%AE%E6%B8%85%E6%B4%97/WeRateDogs%E9%A1%B9%E7%9B%AE/image-predictions.tsv'\n",
    "\n",
    "r = requests.get(url)\n",
    "print('Status code:', r.status_code)\n",
    "\n",
    "with open('image-predictions.tsv', 'wb') as file:\n",
    "    file.write(r.content)\n",
    "    \n",
    "ima = pd.read_csv('image-predictions.tsv', sep='\\t', dtype={'tweet_id':str})\n",
    "\n",
    "#收集twitterAPI\n",
    "tweet = []\n",
    "with open('tweet_json.txt', 'r') as f:\n",
    "    for i in f:\n",
    "        t = json.loads(i)\n",
    "        tweet.append({'tweetID': t['id_str'], \n",
    "                      \n",
    "                      'retweet_count': t['retweet_count'],\n",
    "                      \n",
    "                      'favorite_count': t['favorite_count']})\n",
    "\n",
    "#调整列标题        \n",
    "cols = ['tweetID', 'retweet_count', 'favorite_count']\n",
    "twe = pd.DataFrame(tweet)\n",
    "twe = twe.loc[:,cols]"
   ]
  },
  {
   "cell_type": "markdown",
   "metadata": {},
   "source": [
    "### 数据评估"
   ]
  },
  {
   "cell_type": "code",
   "execution_count": null,
   "metadata": {},
   "outputs": [],
   "source": [
    "#目测评估三个数据集\n",
    "arc "
   ]
  },
  {
   "cell_type": "code",
   "execution_count": null,
   "metadata": {},
   "outputs": [],
   "source": [
    "ima"
   ]
  },
  {
   "cell_type": "code",
   "execution_count": null,
   "metadata": {},
   "outputs": [],
   "source": [
    "twe"
   ]
  },
  {
   "cell_type": "code",
   "execution_count": null,
   "metadata": {},
   "outputs": [],
   "source": [
    "#编程评估三个数据集\n",
    "arc.info()"
   ]
  },
  {
   "cell_type": "code",
   "execution_count": null,
   "metadata": {},
   "outputs": [],
   "source": [
    "arc.rating_denominator.value_counts()"
   ]
  },
  {
   "cell_type": "code",
   "execution_count": null,
   "metadata": {},
   "outputs": [],
   "source": [
    "arc.rating_numerator.value_counts()"
   ]
  },
  {
   "cell_type": "code",
   "execution_count": null,
   "metadata": {},
   "outputs": [],
   "source": [
    "twe.info()"
   ]
  },
  {
   "cell_type": "code",
   "execution_count": null,
   "metadata": {},
   "outputs": [],
   "source": [
    "twe.sample()"
   ]
  },
  {
   "cell_type": "code",
   "execution_count": null,
   "metadata": {},
   "outputs": [],
   "source": [
    "ima.info()"
   ]
  },
  {
   "cell_type": "markdown",
   "metadata": {},
   "source": [
    "### 数据清洗"
   ]
  },
  {
   "cell_type": "code",
   "execution_count": null,
   "metadata": {},
   "outputs": [],
   "source": [
    "#保存副本\n",
    "arc_clean = arc.copy()\n",
    "ima_clean = ima.copy()\n",
    "twe_clean = twe.copy()"
   ]
  },
  {
   "cell_type": "markdown",
   "metadata": {},
   "source": [
    "#### 缺失数据\n",
    "in_reply_to_status_id、in_reply_to_user_id、retweeted_status_timestamp、doggo、floofer、pupper、puppo 列"
   ]
  },
  {
   "cell_type": "markdown",
   "metadata": {},
   "source": [
    "###### 定义\n",
    "删除这些列"
   ]
  },
  {
   "cell_type": "markdown",
   "metadata": {},
   "source": [
    "##### 代码"
   ]
  },
  {
   "cell_type": "code",
   "execution_count": null,
   "metadata": {},
   "outputs": [],
   "source": [
    "#清洗大部分空值的列\n",
    "arc_clean.drop(['in_reply_to_status_id','in_reply_to_user_id', 'retweeted_status_id','retweeted_status_timestamp','expanded_urls'], axis=1, inplace=True)"
   ]
  },
  {
   "cell_type": "code",
   "execution_count": null,
   "metadata": {},
   "outputs": [],
   "source": [
    "arc_clean.drop(['doggo', 'floofer', 'pupper', 'puppo'], axis=1, inplace=True)"
   ]
  },
  {
   "cell_type": "markdown",
   "metadata": {},
   "source": [
    "#### 规范数据"
   ]
  },
  {
   "cell_type": "code",
   "execution_count": null,
   "metadata": {},
   "outputs": [],
   "source": [
    "#统一分母为10，只保留分母为10的行\n",
    "arc_clean = arc_clean[arc_clean.rating_denominator == 10]"
   ]
  },
  {
   "cell_type": "markdown",
   "metadata": {},
   "source": [
    "##### 定义\n",
    "\n",
    "根据项目动机，只保留原始评级"
   ]
  },
  {
   "cell_type": "markdown",
   "metadata": {},
   "source": [
    "##### 代码"
   ]
  },
  {
   "cell_type": "code",
   "execution_count": null,
   "metadata": {},
   "outputs": [],
   "source": [
    "#保留原始状态非转发的Tweet\n",
    "arc_clean.retweeted_status_user_id.fillna('1', inplace=True)"
   ]
  },
  {
   "cell_type": "code",
   "execution_count": null,
   "metadata": {},
   "outputs": [],
   "source": [
    "arc_clean = arc_clean[arc_clean.retweeted_status_user_id == '1']"
   ]
  },
  {
   "cell_type": "code",
   "execution_count": null,
   "metadata": {},
   "outputs": [],
   "source": [
    "arc_clean.drop(['retweeted_status_user_id'], axis=1, inplace=True)"
   ]
  },
  {
   "cell_type": "code",
   "execution_count": null,
   "metadata": {},
   "outputs": [],
   "source": [
    "#保留分子的值为0~14的行\n",
    "arc_clean = arc_clean[arc_clean.rating_numerator >= 0]"
   ]
  },
  {
   "cell_type": "code",
   "execution_count": null,
   "metadata": {},
   "outputs": [],
   "source": [
    "arc_clean = arc_clean[arc_clean.rating_numerator <= 14]"
   ]
  },
  {
   "cell_type": "markdown",
   "metadata": {},
   "source": [
    "##### 测试"
   ]
  },
  {
   "cell_type": "code",
   "execution_count": null,
   "metadata": {},
   "outputs": [],
   "source": [
    "#检查结果\n",
    "arc_clean.rating_numerator.value_counts()"
   ]
  },
  {
   "cell_type": "markdown",
   "metadata": {},
   "source": [
    "#### 整洁度问题"
   ]
  },
  {
   "cell_type": "markdown",
   "metadata": {},
   "source": [
    "##### 定义\n",
    "把识别出的狗的种类的行 merge 到 twitter-archive-enhanced.csv 中，把相关转发数（retweet_count）和喜欢数（favorite_count）merge 到\n",
    "twitter-archive-enhanced.csv 中。"
   ]
  },
  {
   "cell_type": "markdown",
   "metadata": {},
   "source": [
    "##### 代码"
   ]
  },
  {
   "cell_type": "code",
   "execution_count": null,
   "metadata": {},
   "outputs": [],
   "source": [
    "#检查推特档案tweet_id的数据类型\n",
    "arc_clean.tweet_id"
   ]
  },
  {
   "cell_type": "code",
   "execution_count": null,
   "metadata": {},
   "outputs": [],
   "source": [
    "#保留预测为狗狗的行\n",
    "ima_clean = ima_clean[ima_clean.p1_dog == True]"
   ]
  },
  {
   "cell_type": "code",
   "execution_count": null,
   "metadata": {},
   "outputs": [],
   "source": [
    "ima_clean.drop(['p1_dog', 'p2', 'p2_conf', 'p2_dog', 'p3', 'p3_conf', 'p3_dog'], axis=1, inplace=True)"
   ]
  },
  {
   "cell_type": "markdown",
   "metadata": {},
   "source": [
    "##### 测试"
   ]
  },
  {
   "cell_type": "code",
   "execution_count": null,
   "metadata": {},
   "outputs": [],
   "source": [
    "#检查结果\n",
    "ima_clean"
   ]
  },
  {
   "cell_type": "code",
   "execution_count": null,
   "metadata": {},
   "outputs": [],
   "source": [
    "#合并预测结果和推特档案\n",
    "tmp = pd.merge(arc_clean, twe_clean, left_on='tweet_id', right_on='tweetID',how=\"inner\")\n",
    "dogs = pd.merge(tmp, ima_clean, on='tweet_id')"
   ]
  },
  {
   "cell_type": "markdown",
   "metadata": {},
   "source": [
    "#### 为可视化做准备"
   ]
  },
  {
   "cell_type": "code",
   "execution_count": null,
   "metadata": {},
   "outputs": [],
   "source": [
    "#更改列名\n",
    "dogs.rename(columns={'tweetID':'total_count'}, inplace=True)"
   ]
  },
  {
   "cell_type": "code",
   "execution_count": null,
   "metadata": {},
   "outputs": [],
   "source": [
    "#通过求和为排序做准备\n",
    "dogs.total_count = (dogs.rating_numerator + dogs.retweet_count + dogs.favorite_count)"
   ]
  },
  {
   "cell_type": "code",
   "execution_count": null,
   "metadata": {},
   "outputs": [],
   "source": [
    "#为狗排序，得出人们最喜爱的狗\n",
    "dogs.sort_values('total_count', ascending=False, inplace=True)"
   ]
  },
  {
   "cell_type": "code",
   "execution_count": null,
   "metadata": {},
   "outputs": [],
   "source": [
    "#得出人们较不喜欢的的狗\n",
    "ddogs = dogs.tail(10)"
   ]
  },
  {
   "cell_type": "code",
   "execution_count": null,
   "metadata": {},
   "outputs": [],
   "source": [
    "#查看数据集中用户上传最多的狗狗种类是什么\n",
    "total_dogs = dogs.p1.value_counts()"
   ]
  },
  {
   "cell_type": "code",
   "execution_count": null,
   "metadata": {},
   "outputs": [],
   "source": [
    "#保存为twitter_archive_master.csv文件\n",
    "dogs.to_csv('twitter_archive_master.csv', index=False)"
   ]
  },
  {
   "cell_type": "code",
   "execution_count": null,
   "metadata": {},
   "outputs": [],
   "source": [
    "#缺失的name里的None改为No Name\n",
    "dogs.name.replace({'None':'No Name'}, inplace=True)"
   ]
  },
  {
   "cell_type": "code",
   "execution_count": null,
   "metadata": {},
   "outputs": [],
   "source": [
    "dogs"
   ]
  },
  {
   "cell_type": "code",
   "execution_count": null,
   "metadata": {},
   "outputs": [],
   "source": [
    "#取排名前20\n",
    "dogs = dogs.head(20)"
   ]
  },
  {
   "cell_type": "markdown",
   "metadata": {},
   "source": [
    "### 数据可视化"
   ]
  },
  {
   "cell_type": "code",
   "execution_count": null,
   "metadata": {},
   "outputs": [],
   "source": [
    "#利用pygal库进行可交互式可视化\n",
    "import pygal\n",
    "from pygal.style import LightColorizedStyle as LCS, LightenStyle as LS\n",
    "\n",
    "my_style = LS('#4486F7', base_style=LCS)\n",
    "chart1 = pygal.Bar(style=my_style, x_label_rotation=45, show_legend=False)\n",
    "\n",
    "names, plot_dicts = [], []\n",
    "for dog in dogs.iterrows():\n",
    "    names.append(dog[1]['name'])\n",
    "    #设置值、标签和交互式链接\n",
    "    plot_dict={'value': dog[1]['total_count'],\n",
    "              'label': dog[1]['p1'],\n",
    "              'xlink': dog[1]['jpg_url']}\n",
    "    plot_dicts.append(plot_dict)\n",
    "    \n",
    "chart1.title = ('Most popular dogs in WeRateDogs ')\n",
    "chart1.x_labels = names\n",
    "chart1.add('', plot_dicts)\n",
    "chart1.render_to_file('popular_dogs.svg')"
   ]
  },
  {
   "cell_type": "markdown",
   "metadata": {},
   "source": [
    "![popular_dogs](popular_dogs.svg)"
   ]
  },
  {
   "cell_type": "markdown",
   "metadata": {},
   "source": [
    "结论：最受欢迎的狗狗种类从⾼到低前5位为拉布拉多⽝、湖畔㹴、吉娃娃、史宾格⽝、法国⽃⽜⽝。"
   ]
  },
  {
   "cell_type": "code",
   "execution_count": null,
   "metadata": {},
   "outputs": [],
   "source": [
    "#对用户上传最多的狗狗的种类进行可视化\n",
    "chart2 = pygal.Bar(style=my_style, x_label_rotation=45, show_legend=False)\n",
    "\n",
    "dog_dicts = []\n",
    "for dog in total_dogs[:10]:\n",
    "    dog_dict={'value': dog}\n",
    "    dog_dicts.append(dog_dict)\n",
    "    \n",
    "kind = ['golden_retriever', 'Labrador_retriever', 'Pembroke', 'Chihuahua', 'chow', 'pug', 'Samoyed', 'Pomeranian', 'toy_poodle', 'malamute']\n",
    "\n",
    "chart2.title = ('Most kind dogs by user uploaded')\n",
    "chart2.x_labels = kind\n",
    "chart2.add('', dog_dicts)\n",
    "chart2.render_to_file('most_kind_dogs.svg')"
   ]
  },
  {
   "cell_type": "markdown",
   "metadata": {},
   "source": [
    "![most_kind_dogs](most_kind_dogs.svg)"
   ]
  },
  {
   "cell_type": "markdown",
   "metadata": {},
   "source": [
    "结论，在上传图⽚⽤户中拥有最多数量的狗狗种类前五位分别为：⾦⽑⽝、拉布拉多⽝、潘布鲁克威尔⼠柯基⽝、吉娃娃、松狮⽝。"
   ]
  },
  {
   "cell_type": "code",
   "execution_count": null,
   "metadata": {},
   "outputs": [],
   "source": [
    "#对用户上传最少的狗狗的种类进行可视化\n",
    "chart3 = pygal.Bar(style=my_style, x_label_rotation=45, show_legend=False)\n",
    "\n",
    "ddog_dicts = []\n",
    "for dog in total_dogs[-10:]:\n",
    "    ddog_dict={'value': dog}\n",
    "    ddog_dicts.append(ddog_dict)\n",
    "    \n",
    "kinds = ['silky_terrier', 'black-and-tan_coonhound', 'Ibizan_hound', 'groenendael', 'EntleBucher', 'Welsh_springer_spaniel', 'standard_schnauzer', 'curly-coated_retriever', 'Tibetan_terrrier', 'Appenzeller']\n",
    "\n",
    "chart3.title = ('Minimal kind dogs by user uploaded')\n",
    "chart3.x_labels = kinds\n",
    "chart3.add('', ddog_dicts)\n",
    "chart3.render_to_file('minimal_kind_dogs.svg')"
   ]
  },
  {
   "cell_type": "markdown",
   "metadata": {},
   "source": [
    "![minimal_kind_dogs](minimal_kind_dogs.svg)"
   ]
  },
  {
   "cell_type": "markdown",
   "metadata": {},
   "source": [
    "结论：拥有最少数量的狗狗种类如下：澳洲丝⽑㹴、⿊褐⾊猎浣熊⽝、伊⽐莎猎⽝、格罗安达⽝、恩特雷布赫⼭地⽝、威尔⼠史宾格⽝、标准雪纳瑞、卷⽑寻回猎⽝、⻄藏㹴、阿彭策尔牧⽜⽝。"
   ]
  }
 ],
 "metadata": {
  "kernelspec": {
   "display_name": "Python 3",
   "language": "python",
   "name": "python3"
  },
  "language_info": {
   "codemirror_mode": {
    "name": "ipython",
    "version": 3
   },
   "file_extension": ".py",
   "mimetype": "text/x-python",
   "name": "python",
   "nbconvert_exporter": "python",
   "pygments_lexer": "ipython3",
   "version": "3.6.3"
  }
 },
 "nbformat": 4,
 "nbformat_minor": 2
}
